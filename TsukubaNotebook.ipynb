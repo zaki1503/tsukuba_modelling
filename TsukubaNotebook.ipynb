{
 "cells": [
  {
   "cell_type": "code",
   "execution_count": null,
   "metadata": {},
   "outputs": [],
   "source": [
    "import pandas as pd\n",
    "import numpy as np\n",
    "from IPython.display import display\n",
    "import matplotlib.pyplot as plt\n",
    "import seaborn as sns\n",
    "import patsy\n",
    "import statsmodels.api as sm"
   ]
  },
  {
   "cell_type": "markdown",
   "metadata": {},
   "source": [
    "# Tsukuba Modelling\n",
    "\n",
    "### Loading in Tsukuba Dataset"
   ]
  },
  {
   "cell_type": "code",
   "execution_count": null,
   "metadata": {},
   "outputs": [],
   "source": [
    "tsukuba = pd.read_csv(\"data/tsukuba_ac.csv\").iloc[:,:26]\n",
    "tsukuba = tsukuba[tsukuba['P/W (hp/t)'] != '#DIV/0!']\n",
    "tsukuba['P/W (hp/t)'] = tsukuba['P/W (hp/t)'].apply(np.float64)\n",
    "tsukuba['Year'] = tsukuba['Year'].apply(np.float64)\n",
    "tsukuba.dropna(axis=0, how='all', inplace=True)\n",
    "\n",
    "\n",
    "def lt_in_seconds(time):\n",
    "    minutes, seconds = time.strip().split(':')\n",
    "    return 60*np.float64(minutes) + np.float64(seconds)\n",
    "\n",
    "def msrp_float(msrp):\n",
    "    if pd.isna(msrp):\n",
    "        return np.float64(None)\n",
    "    else:\n",
    "        msrp = msrp.replace('$','').replace(',','').replace('>','')\n",
    "        return np.float64(msrp)\n",
    "\n",
    "tsukuba['MSRP (2022 USD)'] = tsukuba['MSRP (2022 USD)'].apply(msrp_float)\n",
    "\n",
    "z='0:00.000'\n",
    "tsukuba['Lap Time I']= tsukuba['Lap Time I'].fillna(z).apply(lt_in_seconds)\n",
    "tsukuba['Lap Time II']= tsukuba['Lap Time II'].fillna(z).apply(lt_in_seconds)\n",
    "tsukuba['Lap Time III']= tsukuba['Lap Time III'].fillna(z).apply(lt_in_seconds)\n",
    "\n",
    "tsukuba_timed = (\n",
    "    tsukuba.loc[tsukuba['Lap Time I'] > 0]\n",
    ")\n",
    "\n",
    "tsukuba_ac = tsukuba.loc[tsukuba['Source']!='irl']\n",
    "\n",
    "tsukuba_all_irl = (\n",
    "    tsukuba.loc[(tsukuba['Source']=='irl')]\n",
    "    .drop(columns=['Author']))\n",
    "\n",
    "tsukuba_irl = (\n",
    "    tsukuba.loc[(tsukuba['Source']=='irl')&\n",
    "                (tsukuba[\"compID\"]==0)]\n",
    "    .drop(columns=['Author']))\n",
    "\n",
    "tsukuba_test_set = tsukuba.loc[tsukuba[\"compID\"]>0]\n",
    "\n",
    "tsukuba_test_set_irl = tsukuba_test_set.loc[tsukuba['Source']=='irl']"
   ]
  },
  {
   "cell_type": "code",
   "execution_count": null,
   "metadata": {},
   "outputs": [],
   "source": [
    "txt = \" ({numcar} cars)\"\n",
    "\n",
    "print(\"Datasets:\\n\")\n",
    "print(\"All Tsukuba Data\"+txt.format(numcar = tsukuba.shape[0]))\n",
    "display(tsukuba.head())\n",
    "print(\"\\nTimed  Data Only\"+txt.format(numcar = tsukuba_timed.shape[0]))\n",
    "display(tsukuba_timed.head())\n",
    "print(\"\\nAssetto Corsa Data\"+txt.format(numcar = tsukuba_ac.shape[0]))\n",
    "display(tsukuba_ac.head())\n",
    "print(\"\\nAll Real Life Data\"+txt.format(numcar = tsukuba_all_irl.shape[0]))\n",
    "display(tsukuba_all_irl.head())\n",
    "print(\"\\nReal Life Only Data\"+txt.format(numcar = tsukuba_irl.shape[0]))\n",
    "display(tsukuba_irl.head())\n",
    "print(\"\\nTest Set (Direct Comparisons)\"+txt.format(numcar = tsukuba_test_set.shape[0]))\n",
    "display(tsukuba_test_set.head())\n",
    "print(\"\\nTest Set (IRL)\"+txt.format(numcar = tsukuba_test_set_irl.shape[0]))\n",
    "display(tsukuba_test_set_irl.head())\n"
   ]
  },
  {
   "cell_type": "code",
   "execution_count": null,
   "metadata": {},
   "outputs": [],
   "source": [
    "assert tsukuba_ac.shape[0] + tsukuba_irl.shape[0] == tsukuba.shape[0]"
   ]
  },
  {
   "cell_type": "code",
   "execution_count": null,
   "metadata": {},
   "outputs": [],
   "source": [
    "f, axes = plt.subplots(5, 1, figsize=(35,25),)\n",
    "\n",
    "z = sns.histplot(\n",
    "    data=tsukuba,\n",
    "    x='WHP',\n",
    "    ax=axes[0],\n",
    "    color=\"purple\",\n",
    "    kde=True,\n",
    "    ).set(title=\"Distribution of Wheel Horsepower\")\n",
    "\n",
    "z2 = sns.histplot(\n",
    "    data=tsukuba,\n",
    "    x='WTQ',\n",
    "    ax=axes[1],\n",
    "    color=\"grey\",\n",
    "    kde=True,\n",
    "    ).set(title=\"Distribution of Torque (NM)\")\n",
    "\n",
    "z1 = sns.histplot(\n",
    "    data=tsukuba,\n",
    "    x='Weight',\n",
    "    ax=axes[2],\n",
    "    color=\"black\",\n",
    "    kde=True,\n",
    "    ).set(title=\"Distribution of Weight (kg)\")\n",
    "\n",
    "y = sns.histplot(\n",
    "    data=tsukuba,\n",
    "    x='P/W (hp/t)',\n",
    "    binwidth=25,\n",
    "    ax=axes[3],\n",
    "    color=\"red\",\n",
    "    kde=True,\n",
    "    ).set(title=\"Distribution of Power to Weight Ratios (hp/t)\")\n",
    "\n",
    "y = sns.histplot(\n",
    "    data=tsukuba_timed,\n",
    "    x='Lap Time I',\n",
    "    ax=axes[4],\n",
    "    color=\"red\",\n",
    "    kde=True,\n",
    "    ).set(title=\"Distribution of Lap Times (S)\")"
   ]
  },
  {
   "cell_type": "code",
   "execution_count": null,
   "metadata": {},
   "outputs": [],
   "source": [
    "cols = [\n",
    "'Year',\n",
    "'MSRP (2022 USD)',\n",
    " 'Lap Time I',\n",
    " 'WHP',\n",
    " 'WTQ',\n",
    " 'Weight',\n",
    " 'P/W (hp/t)',]\n",
    "subsetdf = tsukuba_timed[cols]\n",
    "sns.pairplot(data = subsetdf)"
   ]
  },
  {
   "cell_type": "code",
   "execution_count": null,
   "metadata": {},
   "outputs": [],
   "source": [
    "tsukuba_brand_mu = pd.DataFrame(tsukuba_timed.groupby('Brand').mean())\n",
    "tsukuba_brand_med = pd.DataFrame(tsukuba_timed.groupby('Brand').median())\n",
    "display(tsukuba_brand_mu.head())\n",
    "display(tsukuba_brand_med.head())"
   ]
  },
  {
   "cell_type": "code",
   "execution_count": null,
   "metadata": {},
   "outputs": [],
   "source": [
    "subsetdf = subsetdf.assign(pwr= subsetdf['P/W (hp/t)'])\n",
    "subsetdf = subsetdf.assign(lt= subsetdf['Lap Time I'])\n",
    "subsetdf['pwr'] = (\n",
    "    (subsetdf['pwr'] - subsetdf['pwr'].mean())/subsetdf['pwr'].std()\n",
    "    )\n",
    "subsetdf['lt'] = (\n",
    "    (subsetdf['lt'] - subsetdf['lt'].mean())/subsetdf['lt'].std()\n",
    "    )\n",
    "\n",
    "pwr = subsetdf['pwr']\n",
    "lt = subsetdf['lt']\n",
    "outcome, predictors = patsy.dmatrices('pwr ~ lt', subsetdf)\n",
    "mod = sm.OLS(outcome, predictors)\n",
    "res = mod.fit()\n",
    "display(res.summary())"
   ]
  },
  {
   "cell_type": "code",
   "execution_count": null,
   "metadata": {},
   "outputs": [],
   "source": [
    "tsukuba.Year.plot(kind=\"hist\", bins=50)"
   ]
  },
  {
   "attachments": {},
   "cell_type": "markdown",
   "metadata": {},
   "source": [
    "## Baseline Modelling\n",
    "### Linear Regression"
   ]
  },
  {
   "cell_type": "code",
   "execution_count": null,
   "metadata": {},
   "outputs": [],
   "source": [
    "import pandas as pd\n",
    "from sklearn.linear_model import LinearRegression\n",
    "from sklearn.compose import ColumnTransformer\n",
    "from sklearn.pipeline import Pipeline\n",
    "from sklearn.metrics import mean_squared_error\n",
    "from sklearn.model_selection import train_test_split\n",
    "from sklearn.preprocessing import StandardScaler, OneHotEncoder\n",
    "import numpy as np\n",
    "\n",
    "# Select the specified columns for training and testing\n",
    "columns = ['Year', 'Brand', 'RC I', 'Country', 'MSRP (2022 USD)', 'WHP', 'WTQ', 'Weight', 'P/W (hp/t)', 'Layout', 'Trans', 'DR', 'Lap Time I']\n",
    "train_data = tsukuba_all_irl[columns].dropna()\n",
    "test_data = tsukuba_test_set_irl[columns].dropna()\n",
    "\n",
    "# Split the data into features and target\n",
    "X_train = train_data.drop('Lap Time I', axis=1)\n",
    "y_train = train_data['Lap Time I']\n",
    "X_test = test_data.drop('Lap Time I', axis=1)\n",
    "y_test = test_data['Lap Time I']\n",
    "\n",
    "# Preprocessing steps for numerical and categorical features\n",
    "numeric_features = ['Year', 'MSRP (2022 USD)', 'WHP', 'WTQ', 'Weight', 'P/W (hp/t)']\n",
    "categorical_features = ['Brand', 'Country', 'Layout', 'Trans', 'DR']\n",
    "\n",
    "numeric_transformer = StandardScaler()\n",
    "categorical_transformer = OneHotEncoder(handle_unknown='ignore')\n",
    "\n",
    "preprocessor = ColumnTransformer(\n",
    "    transformers=[\n",
    "        ('num', numeric_transformer, numeric_features),\n",
    "        ('cat', categorical_transformer, categorical_features)\n",
    "    ])\n",
    "\n",
    "# Create the linear regression model\n",
    "linear_regression_model_all = LinearRegression()\n",
    "\n",
    "# Create the pipeline\n",
    "pipeline = Pipeline(steps=[\n",
    "    ('preprocessor', preprocessor),\n",
    "    ('regressor', linear_regression_model_all)\n",
    "])\n",
    "\n",
    "# Train the linear regression model on all real-life cars\n",
    "pipeline.fit(X_train, y_train)\n",
    "\n",
    "# Make predictions on the test set\n",
    "y_pred = pipeline.predict(X_test)\n",
    "\n",
    "# Calculate RMSE for the predictions\n",
    "rmse = np.sqrt(mean_squared_error(y_test, y_pred))\n",
    "print(\"RMSE for LReg model trained on all real life data including cars in the test set:\", rmse)"
   ]
  },
  {
   "cell_type": "code",
   "execution_count": null,
   "metadata": {},
   "outputs": [],
   "source": [
    "tsukuba_all_irl.isnull().sum()"
   ]
  },
  {
   "cell_type": "code",
   "execution_count": null,
   "metadata": {},
   "outputs": [],
   "source": []
  }
 ],
 "metadata": {
  "kernelspec": {
   "display_name": "Python 3",
   "language": "python",
   "name": "python3"
  },
  "language_info": {
   "codemirror_mode": {
    "name": "ipython",
    "version": 3
   },
   "file_extension": ".py",
   "mimetype": "text/x-python",
   "name": "python",
   "nbconvert_exporter": "python",
   "pygments_lexer": "ipython3",
   "version": "3.9.2"
  },
  "orig_nbformat": 4,
  "vscode": {
   "interpreter": {
    "hash": "19b17eba0dbd5e4b8827ab8a6192fc0dff7c2985f63f4f278d5b971ef380745d"
   }
  }
 },
 "nbformat": 4,
 "nbformat_minor": 2
}
